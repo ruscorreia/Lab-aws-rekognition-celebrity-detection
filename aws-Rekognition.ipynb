{
 "cells": [
  {
   "cell_type": "markdown",
   "metadata": {},
   "source": [
    "# AWS Rekognition"
   ]
  },
  {
   "cell_type": "markdown",
   "metadata": {},
   "source": [
    "## Descrição do Projeto\n",
    "Este projeto utiliza o AWS Rekognition para identificar celebridades em imagens. O código foi desenvolvido em Python e utiliza a biblioteca Boto3 para interagir com o serviço da AWS."
   ]
  },
  {
   "cell_type": "code",
   "execution_count": null,
   "metadata": {},
   "outputs": [],
   "source": [
    "# Instale o Boto3 (AWS SDK para Python)\n",
    "!pip install boto3"
   ]
  },
  {
   "cell_type": "code",
   "execution_count": null,
   "metadata": {},
   "outputs": [
    {
     "name": "stderr",
     "output_type": "stream",
     "text": [
      "ERROR: Could not find a version that satisfies the requirement opencv (from versions: none)\n",
      "\n",
      "[notice] A new release of pip is available: 24.3.1 -> 25.0\n",
      "[notice] To update, run: python.exe -m pip install --upgrade pip\n",
      "ERROR: No matching distribution found for opencv\n"
     ]
    }
   ],
   "source": [
    "!pip install opencv-python"
   ]
  },
  {
   "cell_type": "code",
   "execution_count": 3,
   "metadata": {},
   "outputs": [],
   "source": [
    "import boto3\n",
    "import cv2\n",
    "\n",
    "# Configuração das credenciais da AWS\n",
    "# Substitua pelos seus próprios valores\n",
    "aws_access_key_id = ''\n",
    "aws_secret_access_key = ''\n",
    "region_name = 'us-east-1'\n",
    "\n",
    "# Inicializa o cliente do Textract\n",
    "client = boto3.client('rekognition', \n",
    "                      aws_access_key_id=aws_access_key_id, \n",
    "                      aws_secret_access_key=aws_secret_access_key, \n",
    "                      region_name=region_name)"
   ]
  },
  {
   "cell_type": "code",
   "execution_count": 4,
   "metadata": {},
   "outputs": [
    {
     "name": "stdout",
     "output_type": "stream",
     "text": [
      "Celebridades detectadas em celebrity1.png salvas em detected_celebrity1.png\n",
      "Celebridades detectadas em celebrity2.png salvas em detected_celebrity2.png\n",
      "Celebridades detectadas em celebrity3.png salvas em detected_celebrity3.png\n"
     ]
    }
   ],
   "source": [
    "# Lista de imagens\n",
    "image_files = ['celebrity1.png', 'celebrity2.png', 'celebrity3.png']\n",
    "\n",
    "for image_file in image_files:\n",
    "    # Carregar a imagem\n",
    "    with open(image_file, 'rb') as image:\n",
    "        response = client.recognize_celebrities(Image={'Bytes': image.read()})\n",
    "    \n",
    "    # Ler a imagem com OpenCV\n",
    "    image_cv2 = cv2.imread(image_file)\n",
    "    \n",
    "    # Processar cada celebridade detectada\n",
    "    for celebrity in response['CelebrityFaces']:\n",
    "        name = celebrity['Name']\n",
    "        box = celebrity['Face']['BoundingBox']\n",
    "        \n",
    "        # Coordenadas da caixa delimitadora\n",
    "        height, width, _ = image_cv2.shape\n",
    "        left = int(box['Left'] * width)\n",
    "        top = int(box['Top'] * height)\n",
    "        right = int((box['Left'] + box['Width']) * width)\n",
    "        bottom = int((box['Top'] + box['Height']) * height)\n",
    "        \n",
    "        # Desenhar a caixa e o nome da celebridade\n",
    "        cv2.rectangle(image_cv2, (left, top), (right, bottom), (0, 255, 0), 2)\n",
    "        cv2.putText(image_cv2, name, (left, top - 10), cv2.FONT_HERSHEY_SIMPLEX, 0.9, (0, 255, 0), 2)\n",
    "    \n",
    "    # Salvar a imagem com as detecções\n",
    "    output_file = f\"detected_{image_file}\"\n",
    "    cv2.imwrite(output_file, image_cv2)\n",
    "    print(f\"Celebridades detectadas em {image_file} salvas em {output_file}\")"
   ]
  }
 ],
 "metadata": {
  "kernelspec": {
   "display_name": "venv",
   "language": "python",
   "name": "python3"
  },
  "language_info": {
   "codemirror_mode": {
    "name": "ipython",
    "version": 3
   },
   "file_extension": ".py",
   "mimetype": "text/x-python",
   "name": "python",
   "nbconvert_exporter": "python",
   "pygments_lexer": "ipython3",
   "version": "3.12.9"
  }
 },
 "nbformat": 4,
 "nbformat_minor": 2
}
